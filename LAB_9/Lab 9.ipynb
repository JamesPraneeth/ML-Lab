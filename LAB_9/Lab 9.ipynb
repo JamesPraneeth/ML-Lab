{
 "cells": [
  {
   "cell_type": "markdown",
   "metadata": {},
   "source": [
    "# Q1"
   ]
  },
  {
   "cell_type": "code",
   "execution_count": 196,
   "metadata": {
    "scrolled": true
   },
   "outputs": [
    {
     "name": "stdout",
     "output_type": "stream",
     "text": [
      "   X1  X2     Y  Dist\n",
      "6   4   6   Bad   2.0\n",
      "0   7   7   Bad   4.0\n",
      "5   3   5  Good   4.0\n",
      "4   4   5   Bad   5.0\n",
      "7   8   7   Bad   5.0\n",
      "9   8   8   Bad   6.0\n",
      "8   7   9  Good   8.0\n",
      "2   3   4  Good   9.0\n",
      "3   1   4  Good  11.0\n",
      "1   7   4   Bad  13.0\n",
      "euclidian\n",
      "[0, 1, 1]\n",
      "[2, 2, 3]\n",
      "for k = 0 Bad\n",
      "for k = 1 Bad\n",
      "for k = 2 Bad\n"
     ]
    }
   ],
   "source": [
    "import numpy as np\n",
    "import pandas as pd\n",
    "\n",
    "data1 = pd.read_csv('file.csv')\n",
    "\n",
    "#euclidian\n",
    "x1 = 3\n",
    "x2 = 7\n",
    "dist1 = []\n",
    "\n",
    "for i in range(len(data1)):\n",
    "    d = np.sqrt(((x1 - data1['X1'][i]))**2) + (((x2 - data1['X2'][i]))**2)\n",
    "    dist1.append(d)\n",
    "\n",
    "data1['Dist'] = dist1\n",
    "data1 = data1.sort_values(\"Dist\")\n",
    "classification = data1['Y']\n",
    "print(data1)\n",
    "\n",
    "k1 = 2\n",
    "k2 = 3\n",
    "k3 = 4\n",
    "\n",
    "g=[0]*3\n",
    "b=[0]*3\n",
    "\n",
    "g[0] = len([x for x in classification[:k1] if x == 'Good' ])\n",
    "b[0] = len([x for x in classification[:k1] if x == 'Bad' ])\n",
    "g[1] = len([x for x in classification[:k2] if x == 'Good' ])\n",
    "b[1] = len([x for x in classification[:k2] if x == 'Bad' ])\n",
    "g[2] = len([x for x in classification[:k3] if x == 'Good' ])\n",
    "b[2] = len([x for x in classification[:k3] if x == 'Bad' ])\n",
    "print('euclidian')\n",
    "print(g)\n",
    "print(b)\n",
    "for i in range(len(b)):\n",
    "    if g[i]>b[i]:\n",
    "        print(f'for k = {i} Good')\n",
    "    elif g[i]<b[i] :\n",
    "        print(f\"for k = {i} Bad\")\n",
    "    else: \n",
    "        print(f'for k = {i} Cannot be classified')\n"
   ]
  },
  {
   "cell_type": "code",
   "execution_count": 195,
   "metadata": {},
   "outputs": [
    {
     "name": "stdout",
     "output_type": "stream",
     "text": [
      "   X1  X2     Y  Dist\n",
      "5   3   5  Good     2\n",
      "6   4   6   Bad     2\n",
      "2   3   4  Good     3\n",
      "4   4   5   Bad     3\n",
      "0   7   7   Bad     4\n",
      "3   1   4  Good     5\n",
      "7   8   7   Bad     5\n",
      "8   7   9  Good     6\n",
      "9   8   8   Bad     6\n",
      "1   7   4   Bad     7\n",
      "Manhattan\n",
      "[1, 2, 2]\n",
      "[1, 1, 2]\n",
      "for k = 0 Cannot be classified\n",
      "for k = 1 Good\n",
      "for k = 2 Cannot be classified\n"
     ]
    }
   ],
   "source": [
    "data2 = pd.read_csv('file.csv')\n",
    "\n",
    "#Manhattan\n",
    "x1 = 3\n",
    "x2 = 7\n",
    "dist2 = []\n",
    "k1 = 2\n",
    "k2 = 3\n",
    "k3 = 4\n",
    "\n",
    "\n",
    "for i in range(len(data2)):\n",
    "    d = abs(x1 - data2['X1'][i]) + abs(x2 - data2['X2'][i])\n",
    "    dist2.append(d)\n",
    "\n",
    "data2['Dist'] = dist2\n",
    "data2 = data2.sort_values('Dist')\n",
    "classification = data2['Y']\n",
    "print(data2)\n",
    "\n",
    "g=[0]*3\n",
    "b=[0]*3\n",
    "\n",
    "g[0] = len([x for x in classification[:k1] if x == 'Good' ])\n",
    "b[0] = len([x for x in classification[:k1] if x == 'Bad' ])\n",
    "g[1] = len([x for x in classification[:k2] if x == 'Good' ])\n",
    "b[1] = len([x for x in classification[:k2] if x == 'Bad' ])\n",
    "g[2] = len([x for x in classification[:k3] if x == 'Good' ])\n",
    "b[2] = len([x for x in classification[:k3] if x == 'Bad' ])\n",
    "print('Manhattan')\n",
    "print(g)\n",
    "print(b)\n",
    "for i in range(len(b)):\n",
    "    if g[i]>b[i]:\n",
    "        print(f'for k = {i} Good')\n",
    "    elif g[i]<b[i] :\n",
    "        print(f\"for k = {i} Bad\")\n",
    "    else: \n",
    "        print(f'for k = {i} Cannot be classified')\n"
   ]
  },
  {
   "cell_type": "code",
   "execution_count": 193,
   "metadata": {},
   "outputs": [
    {
     "name": "stdout",
     "output_type": "stream",
     "text": [
      "   X1  X2     Y      Dist\n",
      "6   4   6   Bad  1.259921\n",
      "5   3   5  Good  2.000000\n",
      "4   4   5   Bad  2.080084\n",
      "2   3   4  Good  3.000000\n",
      "3   1   4  Good  3.271066\n",
      "0   7   7   Bad  4.000000\n",
      "8   7   9  Good  4.160168\n",
      "1   7   4   Bad  4.497941\n",
      "7   8   7   Bad  5.000000\n",
      "9   8   8   Bad  5.013298\n",
      "Minkowski\n",
      "[1, 1, 2]\n",
      "[1, 2, 2]\n",
      "for k = 0 Cannot be classified\n",
      "for k = 1 Bad\n",
      "for k = 2 Cannot be classified\n"
     ]
    }
   ],
   "source": [
    "data3 = pd.read_csv('file.csv')\n",
    "\n",
    "#Minkowski\n",
    "c = 3\n",
    "x1 = 3\n",
    "x2 = 7\n",
    "dist3 = []\n",
    "k1 = 2\n",
    "k2 = 3\n",
    "k3 = 4\n",
    "\n",
    "\n",
    "for i in range(len(data3)):\n",
    "    d = ((abs(x1 - data3['X1'][i]))**c + (abs(x2 - data3['X2'][i]))**c)**(1/c)\n",
    "    dist3.append(d)\n",
    "\n",
    "\n",
    "data3['Dist'] = dist3\n",
    "data3 = data3.sort_values('Dist')\n",
    "\n",
    "g=[0]*3\n",
    "b=[0]*3\n",
    "classification = data3['Y']\n",
    "print(data3)\n",
    "\n",
    "g[0] = len([x for x in classification[:k1] if x == 'Good' ])\n",
    "b[0] = len([x for x in classification[:k1] if x == 'Bad' ])\n",
    "g[1] = len([x for x in classification[:k2] if x == 'Good' ])\n",
    "b[1] = len([x for x in classification[:k2] if x == 'Bad' ])\n",
    "g[2] = len([x for x in classification[:k3] if x == 'Good' ])\n",
    "b[2] = len([x for x in classification[:k3] if x == 'Bad' ])\n",
    "print('Minkowski')\n",
    "print(g)\n",
    "print(b)\n",
    "for i in range(len(b)):\n",
    "    if g[i]>b[i]:\n",
    "        print(f'for k = {i} Good')\n",
    "    elif g[i]<b[i] :\n",
    "        print(f\"for k = {i} Bad\")\n",
    "    else: \n",
    "        print(f'for k = {i} Cannot be classified')"
   ]
  },
  {
   "cell_type": "code",
   "execution_count": null,
   "metadata": {},
   "outputs": [],
   "source": []
  }
 ],
 "metadata": {
  "kernelspec": {
   "display_name": "Python 3",
   "language": "python",
   "name": "python3"
  },
  "language_info": {
   "codemirror_mode": {
    "name": "ipython",
    "version": 3
   },
   "file_extension": ".py",
   "mimetype": "text/x-python",
   "name": "python",
   "nbconvert_exporter": "python",
   "pygments_lexer": "ipython3",
   "version": "3.8.10"
  }
 },
 "nbformat": 4,
 "nbformat_minor": 4
}
