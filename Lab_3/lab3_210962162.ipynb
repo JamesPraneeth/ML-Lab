{
 "cells": [
  {
   "cell_type": "markdown",
   "metadata": {},
   "source": [
    "## DATA PRE-PROCESSING"
   ]
  },
  {
   "cell_type": "code",
   "execution_count": 315,
   "metadata": {},
   "outputs": [],
   "source": [
    "import pandas as pd\n",
    "import numpy as np\n",
    "from sklearn.model_selection import train_test_split\n"
   ]
  },
  {
   "cell_type": "code",
   "execution_count": 316,
   "metadata": {},
   "outputs": [],
   "source": [
    "#load data\n",
    "\n",
    "df = pd.read_csv('/home/student/Desktop/ML_210962162/Lab_3/diabetes_csv.csv')"
   ]
  },
  {
   "cell_type": "code",
   "execution_count": 317,
   "metadata": {},
   "outputs": [],
   "source": [
    "# drop columns which are not useful\n",
    "\n",
    "cols = ['protime']\n",
    "df = df.drop(cols, axis=1)"
   ]
  },
  {
   "cell_type": "code",
   "execution_count": 318,
   "metadata": {},
   "outputs": [],
   "source": [
    "# drop rowss with missing values\n",
    "\n",
    "df=df.dropna()"
   ]
  },
  {
   "cell_type": "code",
   "execution_count": 319,
   "metadata": {},
   "outputs": [],
   "source": [
    "# create dummy variables\n",
    "\n",
    "dummies = []\n",
    "cols = ['sex','class']\n",
    "for col in cols:\n",
    "    dummies.append(pd.get_dummies(df[col]))\n",
    "\n",
    "hep_dummies = pd.concat(dummies, axis=1)\n",
    "df = pd.concat((df,hep_dummies), axis=1)\n",
    "df = df.drop(['sex','class'], axis=1)"
   ]
  },
  {
   "cell_type": "code",
   "execution_count": 320,
   "metadata": {},
   "outputs": [],
   "source": [
    "# convert data frame to numpy\n",
    "\n",
    "X = df.values\n",
    "Y = df['live'].values\n",
    "X = np.delete(X, 1, axis=1)"
   ]
  },
  {
   "cell_type": "code",
   "execution_count": 321,
   "metadata": {},
   "outputs": [],
   "source": [
    "# dividing dataset into training and test data\n",
    "\n",
    "X_train, X_test, Y_train, Y_test = train_test_split(X, Y, test_size=0.3, random_state=0)\n"
   ]
  },
  {
   "cell_type": "markdown",
   "metadata": {},
   "source": [
    "##  LINEAR REGRESSION"
   ]
  },
  {
   "cell_type": "code",
   "execution_count": 322,
   "metadata": {},
   "outputs": [],
   "source": [
    "from sklearn.linear_model import LinearRegression\n",
    "from sklearn.metrics import mean_squared_error\n",
    "import math\n",
    "import matplotlib.pyplot as plt"
   ]
  },
  {
   "cell_type": "code",
   "execution_count": 323,
   "metadata": {},
   "outputs": [],
   "source": [
    "x = np.array(df['albumin'].values).reshape(-1,1)\n",
    "y = np.array(df['live'].values)\n",
    "x_train, x_test, y_train, y_test = train_test_split(x, y, test_size=0.3, random_state=0)"
   ]
  },
  {
   "cell_type": "code",
   "execution_count": 324,
   "metadata": {},
   "outputs": [
    {
     "data": {
      "text/html": [
       "<style>#sk-container-id-14 {color: black;}#sk-container-id-14 pre{padding: 0;}#sk-container-id-14 div.sk-toggleable {background-color: white;}#sk-container-id-14 label.sk-toggleable__label {cursor: pointer;display: block;width: 100%;margin-bottom: 0;padding: 0.3em;box-sizing: border-box;text-align: center;}#sk-container-id-14 label.sk-toggleable__label-arrow:before {content: \"▸\";float: left;margin-right: 0.25em;color: #696969;}#sk-container-id-14 label.sk-toggleable__label-arrow:hover:before {color: black;}#sk-container-id-14 div.sk-estimator:hover label.sk-toggleable__label-arrow:before {color: black;}#sk-container-id-14 div.sk-toggleable__content {max-height: 0;max-width: 0;overflow: hidden;text-align: left;background-color: #f0f8ff;}#sk-container-id-14 div.sk-toggleable__content pre {margin: 0.2em;color: black;border-radius: 0.25em;background-color: #f0f8ff;}#sk-container-id-14 input.sk-toggleable__control:checked~div.sk-toggleable__content {max-height: 200px;max-width: 100%;overflow: auto;}#sk-container-id-14 input.sk-toggleable__control:checked~label.sk-toggleable__label-arrow:before {content: \"▾\";}#sk-container-id-14 div.sk-estimator input.sk-toggleable__control:checked~label.sk-toggleable__label {background-color: #d4ebff;}#sk-container-id-14 div.sk-label input.sk-toggleable__control:checked~label.sk-toggleable__label {background-color: #d4ebff;}#sk-container-id-14 input.sk-hidden--visually {border: 0;clip: rect(1px 1px 1px 1px);clip: rect(1px, 1px, 1px, 1px);height: 1px;margin: -1px;overflow: hidden;padding: 0;position: absolute;width: 1px;}#sk-container-id-14 div.sk-estimator {font-family: monospace;background-color: #f0f8ff;border: 1px dotted black;border-radius: 0.25em;box-sizing: border-box;margin-bottom: 0.5em;}#sk-container-id-14 div.sk-estimator:hover {background-color: #d4ebff;}#sk-container-id-14 div.sk-parallel-item::after {content: \"\";width: 100%;border-bottom: 1px solid gray;flex-grow: 1;}#sk-container-id-14 div.sk-label:hover label.sk-toggleable__label {background-color: #d4ebff;}#sk-container-id-14 div.sk-serial::before {content: \"\";position: absolute;border-left: 1px solid gray;box-sizing: border-box;top: 0;bottom: 0;left: 50%;z-index: 0;}#sk-container-id-14 div.sk-serial {display: flex;flex-direction: column;align-items: center;background-color: white;padding-right: 0.2em;padding-left: 0.2em;position: relative;}#sk-container-id-14 div.sk-item {position: relative;z-index: 1;}#sk-container-id-14 div.sk-parallel {display: flex;align-items: stretch;justify-content: center;background-color: white;position: relative;}#sk-container-id-14 div.sk-item::before, #sk-container-id-14 div.sk-parallel-item::before {content: \"\";position: absolute;border-left: 1px solid gray;box-sizing: border-box;top: 0;bottom: 0;left: 50%;z-index: -1;}#sk-container-id-14 div.sk-parallel-item {display: flex;flex-direction: column;z-index: 1;position: relative;background-color: white;}#sk-container-id-14 div.sk-parallel-item:first-child::after {align-self: flex-end;width: 50%;}#sk-container-id-14 div.sk-parallel-item:last-child::after {align-self: flex-start;width: 50%;}#sk-container-id-14 div.sk-parallel-item:only-child::after {width: 0;}#sk-container-id-14 div.sk-dashed-wrapped {border: 1px dashed gray;margin: 0 0.4em 0.5em 0.4em;box-sizing: border-box;padding-bottom: 0.4em;background-color: white;}#sk-container-id-14 div.sk-label label {font-family: monospace;font-weight: bold;display: inline-block;line-height: 1.2em;}#sk-container-id-14 div.sk-label-container {text-align: center;}#sk-container-id-14 div.sk-container {/* jupyter's `normalize.less` sets `[hidden] { display: none; }` but bootstrap.min.css set `[hidden] { display: none !important; }` so we also need the `!important` here to be able to override the default hidden behavior on the sphinx rendered scikit-learn.org. See: https://github.com/scikit-learn/scikit-learn/issues/21755 */display: inline-block !important;position: relative;}#sk-container-id-14 div.sk-text-repr-fallback {display: none;}</style><div id=\"sk-container-id-14\" class=\"sk-top-container\"><div class=\"sk-text-repr-fallback\"><pre>LinearRegression()</pre><b>In a Jupyter environment, please rerun this cell to show the HTML representation or trust the notebook. <br />On GitHub, the HTML representation is unable to render, please try loading this page with nbviewer.org.</b></div><div class=\"sk-container\" hidden><div class=\"sk-item\"><div class=\"sk-estimator sk-toggleable\"><input class=\"sk-toggleable__control sk-hidden--visually\" id=\"sk-estimator-id-14\" type=\"checkbox\" checked><label for=\"sk-estimator-id-14\" class=\"sk-toggleable__label sk-toggleable__label-arrow\">LinearRegression</label><div class=\"sk-toggleable__content\"><pre>LinearRegression()</pre></div></div></div></div></div>"
      ],
      "text/plain": [
       "LinearRegression()"
      ]
     },
     "execution_count": 324,
     "metadata": {},
     "output_type": "execute_result"
    }
   ],
   "source": [
    "model = LinearRegression()\n",
    "model.fit(x_train,y_train)"
   ]
  },
  {
   "cell_type": "code",
   "execution_count": 325,
   "metadata": {},
   "outputs": [
    {
     "name": "stdout",
     "output_type": "stream",
     "text": [
      "coefficient of determination: 0.3222253080094214\n"
     ]
    }
   ],
   "source": [
    "r_sq = model.score(x_test, y_test)\n",
    "print(f\"coefficient of determination: {r_sq}\")"
   ]
  },
  {
   "cell_type": "code",
   "execution_count": 326,
   "metadata": {},
   "outputs": [
    {
     "name": "stdout",
     "output_type": "stream",
     "text": [
      "intercept (B0): 0.06246777163904227\n",
      "slope (B1): [0.20294659]\n"
     ]
    }
   ],
   "source": [
    "print(f\"intercept (B0): {model.intercept_}\")\n",
    "print(f\"slope (B1): {model.coef_}\")"
   ]
  },
  {
   "cell_type": "code",
   "execution_count": 327,
   "metadata": {},
   "outputs": [
    {
     "name": "stdout",
     "output_type": "stream",
     "text": [
      "predicted response:\n",
      "[0.87425414 0.77278085 0.87425414 0.87425414 0.95543278 0.81337017\n",
      " 0.85395948 1.05690608 0.65101289 0.93513812 0.87425414 0.8945488\n",
      " 0.91484346 0.91484346 0.8945488  0.87425414 1.01631676 0.93513812\n",
      " 0.83366483 0.81337017 0.61042357 0.83366483 0.9960221  0.83366483\n",
      " 1.07720074 0.83366483 0.93513812 0.91484346 0.8945488  0.85395948\n",
      " 0.87425414 0.65101289 0.87425414 0.95543278 0.95543278 0.95543278\n",
      " 0.83366483 0.73219153 0.91484346 0.91484346 0.87425414 0.87425414\n",
      " 0.95543278 0.87425414 0.91484346 0.85395948 0.93513812 0.97572744\n",
      " 0.87425414 0.75248619 0.69160221 0.77278085 0.67130755 0.87425414\n",
      " 0.81337017 0.93513812 1.13808471 0.8945488  0.73219153 0.87425414\n",
      " 0.95543278 1.05690608 0.91484346 0.87425414 0.85395948 0.87425414\n",
      " 0.63071823 0.63071823 0.95543278 0.75248619 0.79307551 0.91484346\n",
      " 0.85395948 0.77278085 0.91484346 0.61042357 0.67130755 0.85395948\n",
      " 0.48865562 0.79307551 0.67130755 0.91484346 0.83366483 0.87425414\n",
      " 0.67130755 0.73219153 0.85395948 0.83366483 0.87425414 0.65101289\n",
      " 0.87425414 0.8945488  0.54953959 0.69160221 0.73219153 0.97572744\n",
      " 0.83366483 0.75248619 0.83366483 0.97572744 0.77278085 0.59012891\n",
      " 0.91484346 0.61042357 0.77278085 0.91484346 0.75248619 0.87425414\n",
      " 0.93513812 0.8945488  0.8945488  0.69160221]\n"
     ]
    }
   ],
   "source": [
    "y_pred = model.predict(x)\n",
    "print(f\"predicted response:\\n{y_pred}\")"
   ]
  },
  {
   "cell_type": "code",
   "execution_count": 328,
   "metadata": {},
   "outputs": [
    {
     "name": "stdout",
     "output_type": "stream",
     "text": [
      "Root mean square error: 3.0288171905939874\n"
     ]
    }
   ],
   "source": [
    "mse = mean_squared_error(x, y_pred)\n",
    "rmse = math.sqrt(mse)\n",
    "print('Root mean square error:',rmse)"
   ]
  },
  {
   "cell_type": "code",
   "execution_count": 329,
   "metadata": {},
   "outputs": [
    {
     "name": "stdout",
     "output_type": "stream",
     "text": [
      "predicted response:\n",
      "[[0.87425414]\n",
      " [0.77278085]\n",
      " [0.87425414]\n",
      " [0.87425414]\n",
      " [0.95543278]\n",
      " [0.81337017]\n",
      " [0.85395948]\n",
      " [1.05690608]\n",
      " [0.65101289]\n",
      " [0.93513812]\n",
      " [0.87425414]\n",
      " [0.8945488 ]\n",
      " [0.91484346]\n",
      " [0.91484346]\n",
      " [0.8945488 ]\n",
      " [0.87425414]\n",
      " [1.01631676]\n",
      " [0.93513812]\n",
      " [0.83366483]\n",
      " [0.81337017]\n",
      " [0.61042357]\n",
      " [0.83366483]\n",
      " [0.9960221 ]\n",
      " [0.83366483]\n",
      " [1.07720074]\n",
      " [0.83366483]\n",
      " [0.93513812]\n",
      " [0.91484346]\n",
      " [0.8945488 ]\n",
      " [0.85395948]\n",
      " [0.87425414]\n",
      " [0.65101289]\n",
      " [0.87425414]\n",
      " [0.95543278]\n",
      " [0.95543278]\n",
      " [0.95543278]\n",
      " [0.83366483]\n",
      " [0.73219153]\n",
      " [0.91484346]\n",
      " [0.91484346]\n",
      " [0.87425414]\n",
      " [0.87425414]\n",
      " [0.95543278]\n",
      " [0.87425414]\n",
      " [0.91484346]\n",
      " [0.85395948]\n",
      " [0.93513812]\n",
      " [0.97572744]\n",
      " [0.87425414]\n",
      " [0.75248619]\n",
      " [0.69160221]\n",
      " [0.77278085]\n",
      " [0.67130755]\n",
      " [0.87425414]\n",
      " [0.81337017]\n",
      " [0.93513812]\n",
      " [1.13808471]\n",
      " [0.8945488 ]\n",
      " [0.73219153]\n",
      " [0.87425414]\n",
      " [0.95543278]\n",
      " [1.05690608]\n",
      " [0.91484346]\n",
      " [0.87425414]\n",
      " [0.85395948]\n",
      " [0.87425414]\n",
      " [0.63071823]\n",
      " [0.63071823]\n",
      " [0.95543278]\n",
      " [0.75248619]\n",
      " [0.79307551]\n",
      " [0.91484346]\n",
      " [0.85395948]\n",
      " [0.77278085]\n",
      " [0.91484346]\n",
      " [0.61042357]\n",
      " [0.67130755]\n",
      " [0.85395948]\n",
      " [0.48865562]\n",
      " [0.79307551]\n",
      " [0.67130755]\n",
      " [0.91484346]\n",
      " [0.83366483]\n",
      " [0.87425414]\n",
      " [0.67130755]\n",
      " [0.73219153]\n",
      " [0.85395948]\n",
      " [0.83366483]\n",
      " [0.87425414]\n",
      " [0.65101289]\n",
      " [0.87425414]\n",
      " [0.8945488 ]\n",
      " [0.54953959]\n",
      " [0.69160221]\n",
      " [0.73219153]\n",
      " [0.97572744]\n",
      " [0.83366483]\n",
      " [0.75248619]\n",
      " [0.83366483]\n",
      " [0.97572744]\n",
      " [0.77278085]\n",
      " [0.59012891]\n",
      " [0.91484346]\n",
      " [0.61042357]\n",
      " [0.77278085]\n",
      " [0.91484346]\n",
      " [0.75248619]\n",
      " [0.87425414]\n",
      " [0.93513812]\n",
      " [0.8945488 ]\n",
      " [0.8945488 ]\n",
      " [0.69160221]]\n"
     ]
    }
   ],
   "source": [
    "## alternate way to predict\n",
    "\n",
    "y_pred = model.intercept_ + model.coef_ * x\n",
    "print(f\"predicted response:\\n{y_pred}\")\n"
   ]
  },
  {
   "cell_type": "code",
   "execution_count": 330,
   "metadata": {},
   "outputs": [
    {
     "data": {
      "text/plain": [
       "[<matplotlib.lines.Line2D at 0x7fad1e8d2e20>]"
      ]
     },
     "execution_count": 330,
     "metadata": {},
     "output_type": "execute_result"
    },
    {
     "data": {
      "image/png": "[encoded data removed]",
      "text/plain": [
       "<Figure size 432x288 with 1 Axes>"
      ]
     },
     "metadata": {
      "needs_background": "light"
     },
     "output_type": "display_data"
    }
   ],
   "source": [
    "plt.scatter(x, y, label = \"line 1\", color='yellow')\n",
    "plt.plot(x, y_pred, label = \"line 2\", color='green')"
   ]
  },
  {
   "cell_type": "code",
   "execution_count": null,
   "metadata": {},
   "outputs": [],
   "source": []
  }
 ],
 "metadata": {
  "kernelspec": {
   "display_name": "Python 3",
   "language": "python",
   "name": "python3"
  },
  "language_info": {
   "codemirror_mode": {
    "name": "ipython",
    "version": 3
   },
   "file_extension": ".py",
   "mimetype": "text/x-python",
   "name": "python",
   "nbconvert_exporter": "python",
   "pygments_lexer": "ipython3",
   "version": "3.7.3"
  }
 },
 "nbformat": 4,
 "nbformat_minor": 4
}
