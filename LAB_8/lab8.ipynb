{
 "cells": [
  {
   "cell_type": "code",
   "execution_count": 34,
   "metadata": {},
   "outputs": [],
   "source": [
    "from sklearn.feature_extraction.text import CountVectorizer\n",
    "from sklearn.naive_bayes import MultinomialNB\n",
    "from sklearn.metrics import accuracy_score, classification_report\n",
    "from sklearn.model_selection import train_test_split\n",
    "import pandas as pd\n",
    "import numpy as np\n",
    "# data = pd.read_csv(\"weather.csv\")\n",
    "# outlook = data['Outlook']\n",
    "# play = data['Play']"
   ]
  },
  {
   "cell_type": "markdown",
   "metadata": {},
   "source": [
    "## Q1"
   ]
  },
  {
   "cell_type": "code",
   "execution_count": 35,
   "metadata": {},
   "outputs": [
    {
     "name": "stdout",
     "output_type": "stream",
     "text": [
      "The probability that the student is a hosteler given an A grade is: 0.6923076923076923\n",
      "The probability of having the disease given a positive test result is: 0.3333333333333333\n"
     ]
    }
   ],
   "source": [
    "#a\n",
    "P_H = 0.60\n",
    "P_D = 0.40\n",
    "P_A_given_H = 0.30\n",
    "P_A_given_D = 0.20\n",
    "\n",
    "P_A = P_A_given_H * P_H + P_A_given_D * P_D\n",
    "\n",
    "P_H_given_A = (P_A_given_H * P_H) / P_A\n",
    "print(\"The probability that the student is a hosteler given an A grade is:\", P_H_given_A)\n",
    "\n",
    "#b\n",
    "P_Disease = 0.01\n",
    "P_Pos_given_Disease = 0.99\n",
    "P_Pos_given_NoDisease = 0.02\n",
    "\n",
    "P_NoDisease = 1 - P_Disease\n",
    "\n",
    "P_Pos = (P_Pos_given_Disease * P_Disease) + (P_Pos_given_NoDisease * P_NoDisease)\n",
    "\n",
    "P_Disease_given_Pos = (P_Pos_given_Disease * P_Disease) / P_Pos\n",
    "\n",
    "print(\"The probability of having the disease given a positive test result is:\", P_Disease_given_Pos)\n"
   ]
  },
  {
   "cell_type": "markdown",
   "metadata": {},
   "source": [
    "## Q2"
   ]
  },
  {
   "cell_type": "code",
   "execution_count": 36,
   "metadata": {},
   "outputs": [
    {
     "name": "stdout",
     "output_type": "stream",
     "text": [
      "If the weather is Sunny, the player should play: Yes\n",
      "Accuracy: 0.71\n",
      "Precision: 0.71\n",
      "Recall: 1.00\n"
     ]
    }
   ],
   "source": [
    "import csv\n",
    "import math\n",
    "\n",
    "def load_csv(filename):\n",
    "    dataset = []\n",
    "    with open(filename, 'r') as file:\n",
    "        csv_reader = csv.reader(file)\n",
    "        next(csv_reader)  # Skip header row\n",
    "        for row in csv_reader:\n",
    "            dataset.append(row)\n",
    "    return dataset\n",
    "\n",
    "def preprocess_data(dataset):\n",
    "    outlook_counts = {'Sunny': 0, 'Overcast': 0, 'Rainy': 0}\n",
    "    outlook_play_counts = {'Sunny': 0, 'Overcast': 0, 'Rainy': 0}\n",
    "    play_counts = {'Yes': 0, 'No': 0}\n",
    "    \n",
    "    for row in dataset:\n",
    "        outlook = row[0]\n",
    "        play = row[1]\n",
    "        \n",
    "        outlook_counts[outlook] += 1\n",
    "        play_counts[play] += 1\n",
    "        \n",
    "        if play == 'Yes':\n",
    "            outlook_play_counts[outlook] += 1\n",
    "            \n",
    "    return outlook_counts, outlook_play_counts, play_counts\n",
    "\n",
    "def calculate_probabilities(outlook_counts, outlook_play_counts, play_counts):\n",
    "    probabilities = {}\n",
    "    \n",
    "    total_samples = sum(outlook_counts.values())\n",
    "    \n",
    "    for outlook, count in outlook_counts.items():\n",
    "        outlook_probability = count / total_samples\n",
    "        outlook_play_probability = outlook_play_counts[outlook] / count\n",
    "        play_probability = play_counts['Yes'] / total_samples\n",
    "        \n",
    "        probabilities[outlook] = outlook_play_probability * play_probability / outlook_probability\n",
    "        \n",
    "    return probabilities\n",
    "\n",
    "def naive_bayes_classifier(probabilities, outlook):\n",
    "    return 'Yes' if probabilities[outlook] > 1 else 'No'\n",
    "\n",
    "def evaluate_predictions(predictions, actual):\n",
    "    true_positives = sum([1 for p, a in zip(predictions, actual) if p == 'Yes' and a == 'Yes'])\n",
    "    false_positives = sum([1 for p, a in zip(predictions, actual) if p == 'Yes' and a == 'No'])\n",
    "    false_negatives = sum([1 for p, a in zip(predictions, actual) if p == 'No' and a == 'Yes'])\n",
    "    \n",
    "    accuracy = (true_positives + len([1 for p, a in zip(predictions, actual) if p == 'No' and a == 'No'])) / len(predictions)\n",
    "    precision = true_positives / (true_positives + false_positives)\n",
    "    recall = true_positives / (true_positives + false_negatives)\n",
    "    \n",
    "    return accuracy, precision, recall\n",
    "\n",
    "filename = \"weather.csv\"\n",
    "dataset = load_csv(filename)\n",
    "outlook_counts, outlook_play_counts, play_counts = preprocess_data(dataset)\n",
    "\n",
    "probabilities = calculate_probabilities(outlook_counts, outlook_play_counts, play_counts)\n",
    "\n",
    "weather_condition = 'Sunny'\n",
    "prediction = naive_bayes_classifier(probabilities, weather_condition)\n",
    "print(f'If the weather is {weather_condition}, the player should play: {prediction}')\n",
    "\n",
    "\n",
    "predictions = [naive_bayes_classifier(probabilities, row[0]) for row in dataset]\n",
    "actual = [row[1] for row in dataset]\n",
    "accuracy, precision, recall = evaluate_predictions(predictions, actual)\n",
    "\n",
    "print(f'Accuracy: {accuracy:.2f}')\n",
    "print(f'Precision: {precision:.2f}')\n",
    "print(f'Recall: {recall:.2f}')"
   ]
  }
 ],
 "metadata": {
  "kernelspec": {
   "display_name": "Python 3",
   "language": "python",
   "name": "python3"
  },
  "language_info": {
   "codemirror_mode": {
    "name": "ipython",
    "version": 3
   },
   "file_extension": ".py",
   "mimetype": "text/x-python",
   "name": "python",
   "nbconvert_exporter": "python",
   "pygments_lexer": "ipython3",
   "version": "3.8.10"
  }
 },
 "nbformat": 4,
 "nbformat_minor": 4
}
