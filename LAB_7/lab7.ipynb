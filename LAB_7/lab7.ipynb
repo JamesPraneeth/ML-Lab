{
 "cells": [
  {
   "cell_type": "code",
   "execution_count": null,
   "metadata": {},
   "outputs": [],
   "source": []
  },
  {
   "cell_type": "markdown",
   "metadata": {},
   "source": [
    "## Q1"
   ]
  },
  {
   "cell_type": "code",
   "execution_count": null,
   "metadata": {},
   "outputs": [],
   "source": [
    "data = pd.read_csv(\"ques1.csv\")\n",
    "data"
   ]
  },
  {
   "cell_type": "code",
   "execution_count": null,
   "metadata": {},
   "outputs": [],
   "source": [
    "b0 = 0\n",
    "b1 = 0\n",
    "b2 = 0\n",
    "alpha = 0.3\n",
    "num_iterations = 10 \n",
    "\n",
    "x1 = data['X1']\n",
    "x2 = data['X2']\n",
    "y = data['Y']\n",
    "\n",
    "def ret01(pred):\n",
    "    if pred >= 0.5:\n",
    "        return 1\n",
    "    else:\n",
    "        return 0\n",
    "\n",
    "def pred(x1, x2, b0, b1, b2):\n",
    "    predi = 1 / (1 + math.exp(-(b0 + b1 * x1 + b2 * x2)))\n",
    "    return predi\n",
    "\n",
    "\n",
    "for iteration in range(num_iterations):\n",
    "    for i in range(len(x1)):\n",
    "        prediction = pred(x1[i], x2[i], b0, b1, b2)\n",
    "        b0 = b0 + alpha * (y[i] - prediction) * prediction * (1 - prediction) * 1\n",
    "        b1 = b1 + alpha * (y[i] - prediction) * prediction * (1 - prediction) * x1[i]\n",
    "        b2 = b2 + alpha * (y[i] - prediction) * prediction * (1 - prediction) * x2[i]\n",
    "\n",
    "print(f'{b0}, {b1}, {b2}')\n"
   ]
  },
  {
   "cell_type": "code",
   "execution_count": null,
   "metadata": {},
   "outputs": [],
   "source": []
  }
 ],
 "metadata": {
  "kernelspec": {
   "display_name": "Python 3",
   "language": "python",
   "name": "python3"
  },
  "language_info": {
   "codemirror_mode": {
    "name": "ipython",
    "version": 3
   },
   "file_extension": ".py",
   "mimetype": "text/x-python",
   "name": "python",
   "nbconvert_exporter": "python",
   "pygments_lexer": "ipython3",
   "version": "3.8.10"
  }
 },
 "nbformat": 4,
 "nbformat_minor": 4
}
